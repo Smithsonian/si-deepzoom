{
 "cells": [
  {
   "cell_type": "code",
   "execution_count": 1,
   "id": "631f2359-7290-4dfa-bd07-63f8e9a8c0a2",
   "metadata": {},
   "outputs": [
    {
     "name": "stdout",
     "output_type": "stream",
     "text": [
      "C:\\Users\\oigor\\anaconda3\\Lib\\site-packages\\PIL\\__init__.py\n"
     ]
    }
   ],
   "source": [
    "import PIL\n",
    "print(PIL.__file__) "
   ]
  },
  {
   "cell_type": "code",
   "execution_count": null,
   "id": "ba684cf4-171c-4368-9035-83ce3a2e28e4",
   "metadata": {},
   "outputs": [],
   "source": []
  }
 ],
 "metadata": {
  "kernelspec": {
   "display_name": "Python 3 (ipykernel)",
   "language": "python",
   "name": "python3"
  },
  "language_info": {
   "codemirror_mode": {
    "name": "ipython",
    "version": 3
   },
   "file_extension": ".py",
   "mimetype": "text/x-python",
   "name": "python",
   "nbconvert_exporter": "python",
   "pygments_lexer": "ipython3",
   "version": "3.11.5"
  }
 },
 "nbformat": 4,
 "nbformat_minor": 5
}
